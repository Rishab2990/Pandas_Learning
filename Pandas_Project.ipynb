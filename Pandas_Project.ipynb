{
 "cells": [
  {
   "cell_type": "code",
   "execution_count": 1,
   "id": "334b198f-ca11-41f9-85a0-c7a7dadcdb2a",
   "metadata": {},
   "outputs": [],
   "source": [
    "import pandas as pd"
   ]
  },
  {
   "cell_type": "code",
   "execution_count": 2,
   "id": "3216d3a9-0daf-442c-8dd6-f4e1dc013b62",
   "metadata": {},
   "outputs": [],
   "source": [
    "# PROJECT SALES DATA ANALYSIS\n",
    "# Load dataset containing sales data"
   ]
  },
  {
   "cell_type": "code",
   "execution_count": 6,
   "id": "5de6ae64-7238-47a3-8583-b6aa30b83b5a",
   "metadata": {},
   "outputs": [
    {
     "data": {
      "text/html": [
       "<div>\n",
       "<style scoped>\n",
       "    .dataframe tbody tr th:only-of-type {\n",
       "        vertical-align: middle;\n",
       "    }\n",
       "\n",
       "    .dataframe tbody tr th {\n",
       "        vertical-align: top;\n",
       "    }\n",
       "\n",
       "    .dataframe thead th {\n",
       "        text-align: right;\n",
       "    }\n",
       "</style>\n",
       "<table border=\"1\" class=\"dataframe\">\n",
       "  <thead>\n",
       "    <tr style=\"text-align: right;\">\n",
       "      <th></th>\n",
       "      <th>Product_ID</th>\n",
       "      <th>Sale_Date</th>\n",
       "      <th>Sales_Rep</th>\n",
       "      <th>Region</th>\n",
       "      <th>Sales_Amount</th>\n",
       "      <th>Quantity_Sold</th>\n",
       "      <th>Product_Category</th>\n",
       "      <th>Unit_Cost</th>\n",
       "      <th>Unit_Price</th>\n",
       "      <th>Customer_Type</th>\n",
       "      <th>Discount</th>\n",
       "      <th>Payment_Method</th>\n",
       "      <th>Sales_Channel</th>\n",
       "      <th>Region_and_Sales_Rep</th>\n",
       "    </tr>\n",
       "  </thead>\n",
       "  <tbody>\n",
       "    <tr>\n",
       "      <th>0</th>\n",
       "      <td>1052</td>\n",
       "      <td>2023-02-03</td>\n",
       "      <td>Bob</td>\n",
       "      <td>North</td>\n",
       "      <td>5053.97</td>\n",
       "      <td>18</td>\n",
       "      <td>Furniture</td>\n",
       "      <td>152.75</td>\n",
       "      <td>267.22</td>\n",
       "      <td>Returning</td>\n",
       "      <td>0.09</td>\n",
       "      <td>Cash</td>\n",
       "      <td>Online</td>\n",
       "      <td>North-Bob</td>\n",
       "    </tr>\n",
       "    <tr>\n",
       "      <th>1</th>\n",
       "      <td>1093</td>\n",
       "      <td>2023-04-21</td>\n",
       "      <td>Bob</td>\n",
       "      <td>West</td>\n",
       "      <td>4384.02</td>\n",
       "      <td>17</td>\n",
       "      <td>Furniture</td>\n",
       "      <td>3816.39</td>\n",
       "      <td>4209.44</td>\n",
       "      <td>Returning</td>\n",
       "      <td>0.11</td>\n",
       "      <td>Cash</td>\n",
       "      <td>Retail</td>\n",
       "      <td>West-Bob</td>\n",
       "    </tr>\n",
       "    <tr>\n",
       "      <th>2</th>\n",
       "      <td>1015</td>\n",
       "      <td>2023-09-21</td>\n",
       "      <td>David</td>\n",
       "      <td>South</td>\n",
       "      <td>4631.23</td>\n",
       "      <td>30</td>\n",
       "      <td>Food</td>\n",
       "      <td>261.56</td>\n",
       "      <td>371.40</td>\n",
       "      <td>Returning</td>\n",
       "      <td>0.20</td>\n",
       "      <td>Bank Transfer</td>\n",
       "      <td>Retail</td>\n",
       "      <td>South-David</td>\n",
       "    </tr>\n",
       "    <tr>\n",
       "      <th>3</th>\n",
       "      <td>1072</td>\n",
       "      <td>2023-08-24</td>\n",
       "      <td>Bob</td>\n",
       "      <td>South</td>\n",
       "      <td>2167.94</td>\n",
       "      <td>39</td>\n",
       "      <td>Clothing</td>\n",
       "      <td>4330.03</td>\n",
       "      <td>4467.75</td>\n",
       "      <td>New</td>\n",
       "      <td>0.02</td>\n",
       "      <td>Credit Card</td>\n",
       "      <td>Retail</td>\n",
       "      <td>South-Bob</td>\n",
       "    </tr>\n",
       "    <tr>\n",
       "      <th>4</th>\n",
       "      <td>1061</td>\n",
       "      <td>2023-03-24</td>\n",
       "      <td>Charlie</td>\n",
       "      <td>East</td>\n",
       "      <td>3750.20</td>\n",
       "      <td>13</td>\n",
       "      <td>Electronics</td>\n",
       "      <td>637.37</td>\n",
       "      <td>692.71</td>\n",
       "      <td>New</td>\n",
       "      <td>0.08</td>\n",
       "      <td>Credit Card</td>\n",
       "      <td>Online</td>\n",
       "      <td>East-Charlie</td>\n",
       "    </tr>\n",
       "    <tr>\n",
       "      <th>5</th>\n",
       "      <td>1021</td>\n",
       "      <td>2023-02-11</td>\n",
       "      <td>Charlie</td>\n",
       "      <td>West</td>\n",
       "      <td>3761.15</td>\n",
       "      <td>32</td>\n",
       "      <td>Food</td>\n",
       "      <td>900.79</td>\n",
       "      <td>1106.51</td>\n",
       "      <td>New</td>\n",
       "      <td>0.21</td>\n",
       "      <td>Cash</td>\n",
       "      <td>Online</td>\n",
       "      <td>West-Charlie</td>\n",
       "    </tr>\n",
       "    <tr>\n",
       "      <th>6</th>\n",
       "      <td>1083</td>\n",
       "      <td>2023-04-11</td>\n",
       "      <td>Bob</td>\n",
       "      <td>West</td>\n",
       "      <td>618.31</td>\n",
       "      <td>29</td>\n",
       "      <td>Furniture</td>\n",
       "      <td>2408.81</td>\n",
       "      <td>2624.09</td>\n",
       "      <td>Returning</td>\n",
       "      <td>0.14</td>\n",
       "      <td>Cash</td>\n",
       "      <td>Online</td>\n",
       "      <td>West-Bob</td>\n",
       "    </tr>\n",
       "    <tr>\n",
       "      <th>7</th>\n",
       "      <td>1087</td>\n",
       "      <td>2023-01-06</td>\n",
       "      <td>Eve</td>\n",
       "      <td>South</td>\n",
       "      <td>7698.92</td>\n",
       "      <td>46</td>\n",
       "      <td>Furniture</td>\n",
       "      <td>3702.51</td>\n",
       "      <td>3964.65</td>\n",
       "      <td>New</td>\n",
       "      <td>0.12</td>\n",
       "      <td>Bank Transfer</td>\n",
       "      <td>Online</td>\n",
       "      <td>South-Eve</td>\n",
       "    </tr>\n",
       "    <tr>\n",
       "      <th>8</th>\n",
       "      <td>1075</td>\n",
       "      <td>2023-06-29</td>\n",
       "      <td>David</td>\n",
       "      <td>South</td>\n",
       "      <td>4223.39</td>\n",
       "      <td>30</td>\n",
       "      <td>Furniture</td>\n",
       "      <td>738.06</td>\n",
       "      <td>1095.45</td>\n",
       "      <td>New</td>\n",
       "      <td>0.05</td>\n",
       "      <td>Bank Transfer</td>\n",
       "      <td>Online</td>\n",
       "      <td>South-David</td>\n",
       "    </tr>\n",
       "    <tr>\n",
       "      <th>9</th>\n",
       "      <td>1075</td>\n",
       "      <td>2023-10-09</td>\n",
       "      <td>Charlie</td>\n",
       "      <td>West</td>\n",
       "      <td>8239.58</td>\n",
       "      <td>18</td>\n",
       "      <td>Clothing</td>\n",
       "      <td>2228.35</td>\n",
       "      <td>2682.34</td>\n",
       "      <td>New</td>\n",
       "      <td>0.13</td>\n",
       "      <td>Bank Transfer</td>\n",
       "      <td>Online</td>\n",
       "      <td>West-Charlie</td>\n",
       "    </tr>\n",
       "  </tbody>\n",
       "</table>\n",
       "</div>"
      ],
      "text/plain": [
       "   Product_ID   Sale_Date Sales_Rep Region  Sales_Amount  Quantity_Sold  \\\n",
       "0        1052  2023-02-03       Bob  North       5053.97             18   \n",
       "1        1093  2023-04-21       Bob   West       4384.02             17   \n",
       "2        1015  2023-09-21     David  South       4631.23             30   \n",
       "3        1072  2023-08-24       Bob  South       2167.94             39   \n",
       "4        1061  2023-03-24   Charlie   East       3750.20             13   \n",
       "5        1021  2023-02-11   Charlie   West       3761.15             32   \n",
       "6        1083  2023-04-11       Bob   West        618.31             29   \n",
       "7        1087  2023-01-06       Eve  South       7698.92             46   \n",
       "8        1075  2023-06-29     David  South       4223.39             30   \n",
       "9        1075  2023-10-09   Charlie   West       8239.58             18   \n",
       "\n",
       "  Product_Category  Unit_Cost  Unit_Price Customer_Type  Discount  \\\n",
       "0        Furniture     152.75      267.22     Returning      0.09   \n",
       "1        Furniture    3816.39     4209.44     Returning      0.11   \n",
       "2             Food     261.56      371.40     Returning      0.20   \n",
       "3         Clothing    4330.03     4467.75           New      0.02   \n",
       "4      Electronics     637.37      692.71           New      0.08   \n",
       "5             Food     900.79     1106.51           New      0.21   \n",
       "6        Furniture    2408.81     2624.09     Returning      0.14   \n",
       "7        Furniture    3702.51     3964.65           New      0.12   \n",
       "8        Furniture     738.06     1095.45           New      0.05   \n",
       "9         Clothing    2228.35     2682.34           New      0.13   \n",
       "\n",
       "  Payment_Method Sales_Channel Region_and_Sales_Rep  \n",
       "0           Cash        Online            North-Bob  \n",
       "1           Cash        Retail             West-Bob  \n",
       "2  Bank Transfer        Retail          South-David  \n",
       "3    Credit Card        Retail            South-Bob  \n",
       "4    Credit Card        Online         East-Charlie  \n",
       "5           Cash        Online         West-Charlie  \n",
       "6           Cash        Online             West-Bob  \n",
       "7  Bank Transfer        Online            South-Eve  \n",
       "8  Bank Transfer        Online          South-David  \n",
       "9  Bank Transfer        Online         West-Charlie  "
      ]
     },
     "execution_count": 6,
     "metadata": {},
     "output_type": "execute_result"
    }
   ],
   "source": [
    "importedData = pd.read_csv('sales_data.csv')\n",
    "importedData.head(10)"
   ]
  },
  {
   "cell_type": "code",
   "execution_count": 8,
   "id": "ec2eca41-cb74-4764-a71c-6e79443a86f9",
   "metadata": {
    "scrolled": true
   },
   "outputs": [
    {
     "data": {
      "text/plain": [
       "<bound method DataFrame.info of      Product_ID   Sale_Date Sales_Rep Region  Sales_Amount  Quantity_Sold  \\\n",
       "0          1052  2023-02-03       Bob  North       5053.97             18   \n",
       "1          1093  2023-04-21       Bob   West       4384.02             17   \n",
       "2          1015  2023-09-21     David  South       4631.23             30   \n",
       "3          1072  2023-08-24       Bob  South       2167.94             39   \n",
       "4          1061  2023-03-24   Charlie   East       3750.20             13   \n",
       "..          ...         ...       ...    ...           ...            ...   \n",
       "995        1010  2023-04-15   Charlie  North       4733.88              4   \n",
       "996        1067  2023-09-07       Bob  North       4716.36             37   \n",
       "997        1018  2023-04-27     David  South       7629.70             17   \n",
       "998        1100  2023-12-20     David   West       1629.47             39   \n",
       "999        1086  2023-08-16     Alice   East       4923.93             48   \n",
       "\n",
       "    Product_Category  Unit_Cost  Unit_Price Customer_Type  Discount  \\\n",
       "0          Furniture     152.75      267.22     Returning      0.09   \n",
       "1          Furniture    3816.39     4209.44     Returning      0.11   \n",
       "2               Food     261.56      371.40     Returning      0.20   \n",
       "3           Clothing    4330.03     4467.75           New      0.02   \n",
       "4        Electronics     637.37      692.71           New      0.08   \n",
       "..               ...        ...         ...           ...       ...   \n",
       "995             Food    4943.03     5442.15     Returning      0.29   \n",
       "996         Clothing    1754.32     1856.40           New      0.21   \n",
       "997         Clothing     355.72      438.27     Returning      0.06   \n",
       "998      Electronics    3685.03     3743.39           New      0.01   \n",
       "999             Food    2632.58     2926.68     Returning      0.14   \n",
       "\n",
       "    Payment_Method Sales_Channel Region_and_Sales_Rep  \n",
       "0             Cash        Online            North-Bob  \n",
       "1             Cash        Retail             West-Bob  \n",
       "2    Bank Transfer        Retail          South-David  \n",
       "3      Credit Card        Retail            South-Bob  \n",
       "4      Credit Card        Online         East-Charlie  \n",
       "..             ...           ...                  ...  \n",
       "995           Cash        Online        North-Charlie  \n",
       "996  Bank Transfer        Retail            North-Bob  \n",
       "997  Bank Transfer        Online          South-David  \n",
       "998  Bank Transfer        Online           West-David  \n",
       "999           Cash        Online           East-Alice  \n",
       "\n",
       "[1000 rows x 14 columns]>"
      ]
     },
     "execution_count": 8,
     "metadata": {},
     "output_type": "execute_result"
    }
   ],
   "source": [
    "# Display basic info and check missing values\n",
    "importedData.info"
   ]
  },
  {
   "cell_type": "code",
   "execution_count": 12,
   "id": "06a1ab20-4113-4b2f-811e-b23b2482fb99",
   "metadata": {
    "scrolled": true
   },
   "outputs": [
    {
     "data": {
      "text/plain": [
       "Product_ID              0\n",
       "Sale_Date               0\n",
       "Sales_Rep               0\n",
       "Region                  0\n",
       "Sales_Amount            0\n",
       "Quantity_Sold           0\n",
       "Product_Category        0\n",
       "Unit_Cost               0\n",
       "Unit_Price              0\n",
       "Customer_Type           0\n",
       "Discount                0\n",
       "Payment_Method          0\n",
       "Sales_Channel           0\n",
       "Region_and_Sales_Rep    0\n",
       "dtype: int64"
      ]
     },
     "execution_count": 12,
     "metadata": {},
     "output_type": "execute_result"
    }
   ],
   "source": [
    "importedData.isnull().sum()\n"
   ]
  },
  {
   "cell_type": "code",
   "execution_count": 14,
   "id": "99769577-173f-42c0-b6ec-27a3885c629e",
   "metadata": {},
   "outputs": [
    {
     "data": {
      "text/plain": [
       "Product_ID              1000\n",
       "Sale_Date               1000\n",
       "Sales_Rep               1000\n",
       "Region                  1000\n",
       "Sales_Amount            1000\n",
       "Quantity_Sold           1000\n",
       "Product_Category        1000\n",
       "Unit_Cost               1000\n",
       "Unit_Price              1000\n",
       "Customer_Type           1000\n",
       "Discount                1000\n",
       "Payment_Method          1000\n",
       "Sales_Channel           1000\n",
       "Region_and_Sales_Rep    1000\n",
       "dtype: int64"
      ]
     },
     "execution_count": 14,
     "metadata": {},
     "output_type": "execute_result"
    }
   ],
   "source": [
    "importedData.notnull().sum()"
   ]
  },
  {
   "cell_type": "code",
   "execution_count": 53,
   "id": "6aebb3e4-f43a-407b-81d7-2aac0e40470c",
   "metadata": {},
   "outputs": [
    {
     "data": {
      "text/html": [
       "<div>\n",
       "<style scoped>\n",
       "    .dataframe tbody tr th:only-of-type {\n",
       "        vertical-align: middle;\n",
       "    }\n",
       "\n",
       "    .dataframe tbody tr th {\n",
       "        vertical-align: top;\n",
       "    }\n",
       "\n",
       "    .dataframe thead th {\n",
       "        text-align: right;\n",
       "    }\n",
       "</style>\n",
       "<table border=\"1\" class=\"dataframe\">\n",
       "  <thead>\n",
       "    <tr style=\"text-align: right;\">\n",
       "      <th></th>\n",
       "      <th>Sales_Amount</th>\n",
       "      <th>Quantity_Sold</th>\n",
       "      <th>Unit_Price</th>\n",
       "      <th>Unit_Cost</th>\n",
       "    </tr>\n",
       "    <tr>\n",
       "      <th>Product_Category</th>\n",
       "      <th></th>\n",
       "      <th></th>\n",
       "      <th></th>\n",
       "      <th></th>\n",
       "    </tr>\n",
       "  </thead>\n",
       "  <tbody>\n",
       "    <tr>\n",
       "      <th>Clothing</th>\n",
       "      <td>1313474.36</td>\n",
       "      <td>6922</td>\n",
       "      <td>729296.71</td>\n",
       "      <td>662117.40</td>\n",
       "    </tr>\n",
       "    <tr>\n",
       "      <th>Electronics</th>\n",
       "      <td>1243499.64</td>\n",
       "      <td>6096</td>\n",
       "      <td>687620.97</td>\n",
       "      <td>626151.20</td>\n",
       "    </tr>\n",
       "    <tr>\n",
       "      <th>Food</th>\n",
       "      <td>1201773.54</td>\n",
       "      <td>5608</td>\n",
       "      <td>600665.45</td>\n",
       "      <td>544207.76</td>\n",
       "    </tr>\n",
       "    <tr>\n",
       "      <th>Furniture</th>\n",
       "      <td>1260517.69</td>\n",
       "      <td>6729</td>\n",
       "      <td>710856.99</td>\n",
       "      <td>642828.19</td>\n",
       "    </tr>\n",
       "  </tbody>\n",
       "</table>\n",
       "</div>"
      ],
      "text/plain": [
       "                  Sales_Amount  Quantity_Sold  Unit_Price  Unit_Cost\n",
       "Product_Category                                                    \n",
       "Clothing            1313474.36           6922   729296.71  662117.40\n",
       "Electronics         1243499.64           6096   687620.97  626151.20\n",
       "Food                1201773.54           5608   600665.45  544207.76\n",
       "Furniture           1260517.69           6729   710856.99  642828.19"
      ]
     },
     "execution_count": 53,
     "metadata": {},
     "output_type": "execute_result"
    }
   ],
   "source": [
    "# Find the Total sale of each Product\n",
    "importedData.groupby('Product_Category')[['Sales_Amount','Quantity_Sold','Unit_Price','Unit_Cost']].sum()\n",
    "importedData.groupby('Product_Category')"
   ]
  },
  {
   "cell_type": "code",
   "execution_count": 50,
   "id": "caa779b2-d15a-4cdf-bf8f-b9793d81bdcf",
   "metadata": {
    "scrolled": true
   },
   "outputs": [
    {
     "data": {
      "text/plain": [
       "5019265.2299999995"
      ]
     },
     "execution_count": 50,
     "metadata": {},
     "output_type": "execute_result"
    }
   ],
   "source": [
    "# with the help of loc we will get the total amount of sell\n",
    "importedData.loc[0:, 'Sales_Amount'].sum()"
   ]
  },
  {
   "cell_type": "code",
   "execution_count": 81,
   "id": "4c31f0f6-8ed1-43da-a138-4c96edd075b3",
   "metadata": {},
   "outputs": [
    {
     "data": {
      "text/plain": [
       "Payment_Method\n",
       "Credit Card      345\n",
       "Bank Transfer    342\n",
       "Cash             313\n",
       "Name: count, dtype: int64"
      ]
     },
     "execution_count": 81,
     "metadata": {},
     "output_type": "execute_result"
    }
   ],
   "source": [
    "# which is the most used Payment Method both are same working\n",
    "importedData.groupby('Payment_Method').size()\n",
    "importedData['Payment_Method'].value_counts()"
   ]
  },
  {
   "cell_type": "code",
   "execution_count": 76,
   "id": "ef2adabd-a668-4c48-b235-d84356aea386",
   "metadata": {},
   "outputs": [
    {
     "data": {
      "text/plain": [
       "1000"
      ]
     },
     "execution_count": 76,
     "metadata": {},
     "output_type": "execute_result"
    }
   ],
   "source": [
    "# Total Payment \n",
    "importedData.Payment_Method.count()"
   ]
  },
  {
   "cell_type": "code",
   "execution_count": 77,
   "id": "7587448b-6f6f-42cb-9324-7ff50e66560e",
   "metadata": {},
   "outputs": [
    {
     "data": {
      "text/plain": [
       "5019265.2299999995"
      ]
     },
     "execution_count": 77,
     "metadata": {},
     "output_type": "execute_result"
    }
   ],
   "source": [
    "# with the help of this also we get total sales\n",
    "importedData.Sales_Amount.sum()"
   ]
  },
  {
   "cell_type": "code",
   "execution_count": 96,
   "id": "b8e80013-ff37-4a15-817a-b827c05d4fdf",
   "metadata": {},
   "outputs": [
    {
     "data": {
      "text/plain": [
       "Product_Category\n",
       "Clothing       268\n",
       "Electronics    246\n",
       "Food           226\n",
       "Furniture      260\n",
       "dtype: int64"
      ]
     },
     "execution_count": 96,
     "metadata": {},
     "output_type": "execute_result"
    }
   ],
   "source": [
    "# Identify the best Selling Product\n",
    "importedData['Product_Category'].value_counts()\n",
    "importedData.groupby('Product_Category').size()"
   ]
  },
  {
   "cell_type": "code",
   "execution_count": 109,
   "id": "09dc45e6-c8b4-453d-8385-ab55992566d1",
   "metadata": {},
   "outputs": [
    {
     "ename": "UnicodeDecodeError",
     "evalue": "'utf-8' codec can't decode byte 0xe5 in position 202: invalid continuation byte",
     "output_type": "error",
     "traceback": [
      "\u001b[1;31m---------------------------------------------------------------------------\u001b[0m",
      "\u001b[1;31mUnicodeDecodeError\u001b[0m                        Traceback (most recent call last)",
      "Cell \u001b[1;32mIn[109], line 1\u001b[0m\n\u001b[1;32m----> 1\u001b[0m movieDataset \u001b[38;5;241m=\u001b[39m pd\u001b[38;5;241m.\u001b[39mread_csv(\u001b[38;5;124m'\u001b[39m\u001b[38;5;124mMovie_Database.csv\u001b[39m\u001b[38;5;124m'\u001b[39m)\n",
      "File \u001b[1;32m~\\anaconda3\\Lib\\site-packages\\pandas\\io\\parsers\\readers.py:1026\u001b[0m, in \u001b[0;36mread_csv\u001b[1;34m(filepath_or_buffer, sep, delimiter, header, names, index_col, usecols, dtype, engine, converters, true_values, false_values, skipinitialspace, skiprows, skipfooter, nrows, na_values, keep_default_na, na_filter, verbose, skip_blank_lines, parse_dates, infer_datetime_format, keep_date_col, date_parser, date_format, dayfirst, cache_dates, iterator, chunksize, compression, thousands, decimal, lineterminator, quotechar, quoting, doublequote, escapechar, comment, encoding, encoding_errors, dialect, on_bad_lines, delim_whitespace, low_memory, memory_map, float_precision, storage_options, dtype_backend)\u001b[0m\n\u001b[0;32m   1013\u001b[0m kwds_defaults \u001b[38;5;241m=\u001b[39m _refine_defaults_read(\n\u001b[0;32m   1014\u001b[0m     dialect,\n\u001b[0;32m   1015\u001b[0m     delimiter,\n\u001b[1;32m   (...)\u001b[0m\n\u001b[0;32m   1022\u001b[0m     dtype_backend\u001b[38;5;241m=\u001b[39mdtype_backend,\n\u001b[0;32m   1023\u001b[0m )\n\u001b[0;32m   1024\u001b[0m kwds\u001b[38;5;241m.\u001b[39mupdate(kwds_defaults)\n\u001b[1;32m-> 1026\u001b[0m \u001b[38;5;28;01mreturn\u001b[39;00m _read(filepath_or_buffer, kwds)\n",
      "File \u001b[1;32m~\\anaconda3\\Lib\\site-packages\\pandas\\io\\parsers\\readers.py:620\u001b[0m, in \u001b[0;36m_read\u001b[1;34m(filepath_or_buffer, kwds)\u001b[0m\n\u001b[0;32m    617\u001b[0m _validate_names(kwds\u001b[38;5;241m.\u001b[39mget(\u001b[38;5;124m\"\u001b[39m\u001b[38;5;124mnames\u001b[39m\u001b[38;5;124m\"\u001b[39m, \u001b[38;5;28;01mNone\u001b[39;00m))\n\u001b[0;32m    619\u001b[0m \u001b[38;5;66;03m# Create the parser.\u001b[39;00m\n\u001b[1;32m--> 620\u001b[0m parser \u001b[38;5;241m=\u001b[39m TextFileReader(filepath_or_buffer, \u001b[38;5;241m*\u001b[39m\u001b[38;5;241m*\u001b[39mkwds)\n\u001b[0;32m    622\u001b[0m \u001b[38;5;28;01mif\u001b[39;00m chunksize \u001b[38;5;129;01mor\u001b[39;00m iterator:\n\u001b[0;32m    623\u001b[0m     \u001b[38;5;28;01mreturn\u001b[39;00m parser\n",
      "File \u001b[1;32m~\\anaconda3\\Lib\\site-packages\\pandas\\io\\parsers\\readers.py:1620\u001b[0m, in \u001b[0;36mTextFileReader.__init__\u001b[1;34m(self, f, engine, **kwds)\u001b[0m\n\u001b[0;32m   1617\u001b[0m     \u001b[38;5;28mself\u001b[39m\u001b[38;5;241m.\u001b[39moptions[\u001b[38;5;124m\"\u001b[39m\u001b[38;5;124mhas_index_names\u001b[39m\u001b[38;5;124m\"\u001b[39m] \u001b[38;5;241m=\u001b[39m kwds[\u001b[38;5;124m\"\u001b[39m\u001b[38;5;124mhas_index_names\u001b[39m\u001b[38;5;124m\"\u001b[39m]\n\u001b[0;32m   1619\u001b[0m \u001b[38;5;28mself\u001b[39m\u001b[38;5;241m.\u001b[39mhandles: IOHandles \u001b[38;5;241m|\u001b[39m \u001b[38;5;28;01mNone\u001b[39;00m \u001b[38;5;241m=\u001b[39m \u001b[38;5;28;01mNone\u001b[39;00m\n\u001b[1;32m-> 1620\u001b[0m \u001b[38;5;28mself\u001b[39m\u001b[38;5;241m.\u001b[39m_engine \u001b[38;5;241m=\u001b[39m \u001b[38;5;28mself\u001b[39m\u001b[38;5;241m.\u001b[39m_make_engine(f, \u001b[38;5;28mself\u001b[39m\u001b[38;5;241m.\u001b[39mengine)\n",
      "File \u001b[1;32m~\\anaconda3\\Lib\\site-packages\\pandas\\io\\parsers\\readers.py:1898\u001b[0m, in \u001b[0;36mTextFileReader._make_engine\u001b[1;34m(self, f, engine)\u001b[0m\n\u001b[0;32m   1895\u001b[0m     \u001b[38;5;28;01mraise\u001b[39;00m \u001b[38;5;167;01mValueError\u001b[39;00m(msg)\n\u001b[0;32m   1897\u001b[0m \u001b[38;5;28;01mtry\u001b[39;00m:\n\u001b[1;32m-> 1898\u001b[0m     \u001b[38;5;28;01mreturn\u001b[39;00m mapping[engine](f, \u001b[38;5;241m*\u001b[39m\u001b[38;5;241m*\u001b[39m\u001b[38;5;28mself\u001b[39m\u001b[38;5;241m.\u001b[39moptions)\n\u001b[0;32m   1899\u001b[0m \u001b[38;5;28;01mexcept\u001b[39;00m \u001b[38;5;167;01mException\u001b[39;00m:\n\u001b[0;32m   1900\u001b[0m     \u001b[38;5;28;01mif\u001b[39;00m \u001b[38;5;28mself\u001b[39m\u001b[38;5;241m.\u001b[39mhandles \u001b[38;5;129;01mis\u001b[39;00m \u001b[38;5;129;01mnot\u001b[39;00m \u001b[38;5;28;01mNone\u001b[39;00m:\n",
      "File \u001b[1;32m~\\anaconda3\\Lib\\site-packages\\pandas\\io\\parsers\\c_parser_wrapper.py:93\u001b[0m, in \u001b[0;36mCParserWrapper.__init__\u001b[1;34m(self, src, **kwds)\u001b[0m\n\u001b[0;32m     90\u001b[0m \u001b[38;5;28;01mif\u001b[39;00m kwds[\u001b[38;5;124m\"\u001b[39m\u001b[38;5;124mdtype_backend\u001b[39m\u001b[38;5;124m\"\u001b[39m] \u001b[38;5;241m==\u001b[39m \u001b[38;5;124m\"\u001b[39m\u001b[38;5;124mpyarrow\u001b[39m\u001b[38;5;124m\"\u001b[39m:\n\u001b[0;32m     91\u001b[0m     \u001b[38;5;66;03m# Fail here loudly instead of in cython after reading\u001b[39;00m\n\u001b[0;32m     92\u001b[0m     import_optional_dependency(\u001b[38;5;124m\"\u001b[39m\u001b[38;5;124mpyarrow\u001b[39m\u001b[38;5;124m\"\u001b[39m)\n\u001b[1;32m---> 93\u001b[0m \u001b[38;5;28mself\u001b[39m\u001b[38;5;241m.\u001b[39m_reader \u001b[38;5;241m=\u001b[39m parsers\u001b[38;5;241m.\u001b[39mTextReader(src, \u001b[38;5;241m*\u001b[39m\u001b[38;5;241m*\u001b[39mkwds)\n\u001b[0;32m     95\u001b[0m \u001b[38;5;28mself\u001b[39m\u001b[38;5;241m.\u001b[39munnamed_cols \u001b[38;5;241m=\u001b[39m \u001b[38;5;28mself\u001b[39m\u001b[38;5;241m.\u001b[39m_reader\u001b[38;5;241m.\u001b[39munnamed_cols\n\u001b[0;32m     97\u001b[0m \u001b[38;5;66;03m# error: Cannot determine type of 'names'\u001b[39;00m\n",
      "File \u001b[1;32mparsers.pyx:574\u001b[0m, in \u001b[0;36mpandas._libs.parsers.TextReader.__cinit__\u001b[1;34m()\u001b[0m\n",
      "File \u001b[1;32mparsers.pyx:663\u001b[0m, in \u001b[0;36mpandas._libs.parsers.TextReader._get_header\u001b[1;34m()\u001b[0m\n",
      "File \u001b[1;32mparsers.pyx:874\u001b[0m, in \u001b[0;36mpandas._libs.parsers.TextReader._tokenize_rows\u001b[1;34m()\u001b[0m\n",
      "File \u001b[1;32mparsers.pyx:891\u001b[0m, in \u001b[0;36mpandas._libs.parsers.TextReader._check_tokenize_status\u001b[1;34m()\u001b[0m\n",
      "File \u001b[1;32mparsers.pyx:2053\u001b[0m, in \u001b[0;36mpandas._libs.parsers.raise_parser_error\u001b[1;34m()\u001b[0m\n",
      "File \u001b[1;32m<frozen codecs>:322\u001b[0m, in \u001b[0;36mdecode\u001b[1;34m(self, input, final)\u001b[0m\n",
      "\u001b[1;31mUnicodeDecodeError\u001b[0m: 'utf-8' codec can't decode byte 0xe5 in position 202: invalid continuation byte"
     ]
    }
   ],

